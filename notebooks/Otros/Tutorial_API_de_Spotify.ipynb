{
  "nbformat": 4,
  "nbformat_minor": 0,
  "metadata": {
    "colab": {
      "provenance": [],
      "toc_visible": true,
      "authorship_tag": "ABX9TyNKw1yim/3hSNLyTic1/mW5",
      "include_colab_link": true
    },
    "kernelspec": {
      "name": "python3",
      "display_name": "Python 3"
    },
    "language_info": {
      "name": "python"
    }
  },
  "cells": [
    {
      "cell_type": "markdown",
      "metadata": {
        "id": "view-in-github",
        "colab_type": "text"
      },
      "source": [
        "<a href=\"https://colab.research.google.com/github/DanielDialektico/machine-learning-practices/blob/main/notebooks/Otros/Tutorial_API_de_Spotify.ipynb\" target=\"_parent\"><img src=\"https://colab.research.google.com/assets/colab-badge.svg\" alt=\"Open In Colab\"/></a>"
      ]
    },
    {
      "cell_type": "markdown",
      "source": [
        "<img src=\"https://dialektico.com/wp-content/uploads/2023/03/MiniLogoW4.png\" alt=\"Dialéktico Logo\" />"
      ],
      "metadata": {
        "id": "7_lxZ9fdNVE-"
      }
    },
    {
      "cell_type": "markdown",
      "source": [
        "# **Consumo de API de Spotify con Python usando Spotipy 🎼**"
      ],
      "metadata": {
        "id": "Fkxue2A5NgKd"
      }
    },
    {
      "cell_type": "markdown",
      "source": [
        "# **Introducción**"
      ],
      "metadata": {
        "id": "ZtszifNq3H9f"
      }
    },
    {
      "cell_type": "markdown",
      "source": [
        "En este **notebook** pondremos en práctica cómo consumir la **API** de **Spotify** usando la librería Spotipy de Python, donde obtendremos datos de canciones y artistas, y los ordenaremos en formato tabular para finalmente almacenar la información en un CSV.\n",
        "\n",
        "Este notebook es parte del [tutorial de cómo consumir la API de Spotify con Python](https://dialektico.com/tutorial-api-spotify-python/), donde se pueden hallar instrucciones más detalladas.\n",
        "\n",
        "<br>\n",
        "<center><img src=\"https://dialektico.com/wp-content/uploads/2025/01/APIS_colab.jpg\" width=\"300\" /></center>\n",
        "\n",
        "<br>\n",
        "<center><img src=\"https://dialektico.com/wp-content/uploads/2025/01/APIS_Colab_obj.jpg\" width=\"300\" /></center>"
      ],
      "metadata": {
        "id": "Ia7FWjI91g8w"
      }
    },
    {
      "cell_type": "markdown",
      "source": [
        "<br>"
      ],
      "metadata": {
        "id": "0L-3nexs4LEX"
      }
    },
    {
      "cell_type": "markdown",
      "source": [
        "# **Instalación de librerías**"
      ],
      "metadata": {
        "id": "QJpC3Iku33wH"
      }
    },
    {
      "cell_type": "markdown",
      "source": [
        "Instalamos la librerías:"
      ],
      "metadata": {
        "id": "Sp_53fMDOYbV"
      }
    },
    {
      "cell_type": "markdown",
      "source": [
        "***Nota*:** *Las instalaciones se realizan a pesar de que algunas librerías ya están integradas de forma nativa en Colab, esto para asegurar que el Notebook no presente problemas de ejecución si se dan cambios de sintaxis entre versiones de librerías.*"
      ],
      "metadata": {
        "id": "dUwKHsPj3pXn"
      }
    },
    {
      "cell_type": "code",
      "execution_count": null,
      "metadata": {
        "id": "gWu06FeQ1DvV"
      },
      "outputs": [],
      "source": [
        "!pip install pandas==2.2.2\n",
        "!pip install tqdm==4.67.1\n",
        "!pip install spotipy==2.25.0"
      ]
    },
    {
      "cell_type": "markdown",
      "source": [
        "<br>"
      ],
      "metadata": {
        "id": "_nQRDaWd4M6f"
      }
    },
    {
      "cell_type": "markdown",
      "source": [
        "# **Se añaden las credenciales de autenticación**"
      ],
      "metadata": {
        "id": "3bei5OuF4Xbn"
      }
    },
    {
      "cell_type": "markdown",
      "source": [
        "Se declaran las variables con las **credenciales** ([ver tutorial](https://dialektico.com/tutorial-api-spotify-python/))."
      ],
      "metadata": {
        "id": "eelTZnCEM5aW"
      }
    },
    {
      "cell_type": "code",
      "source": [
        "# Se importan las librerías necesarias.\n",
        "import warnings\n",
        "import spotipy\n",
        "from spotipy.oauth2 import SpotifyClientCredentials\n",
        "import pandas as pd\n",
        "from tqdm import tqdm\n",
        "\n",
        "# Se filtran las advertencias.\n",
        "warnings.filterwarnings('ignore')\n",
        "\n",
        "# Se declara el ID del cliente.\n",
        "client_id = 'Añade tu Client ID'\n",
        "\n",
        "# Se declara el valor del secret client.\n",
        "client_secret = 'Añade tu Client Secret'\n",
        "\n",
        "client_credentials_manager = SpotifyClientCredentials(client_id, client_secret)"
      ],
      "metadata": {
        "id": "kdytcG9B1FLQ"
      },
      "execution_count": null,
      "outputs": []
    },
    {
      "cell_type": "markdown",
      "source": [
        "<br>"
      ],
      "metadata": {
        "id": "dM6mW85e45kf"
      }
    },
    {
      "cell_type": "markdown",
      "source": [
        "# **Usando Spotipy para extraer datos**"
      ],
      "metadata": {
        "id": "fbmLHI6I5Rmf"
      }
    },
    {
      "cell_type": "markdown",
      "source": [
        "Comenzamos creando el objeto que nos permitirá consumir los endpoints de la API."
      ],
      "metadata": {
        "id": "HgmS52XG5Z-3"
      }
    },
    {
      "cell_type": "code",
      "source": [
        "# Se crea el cliente que se utilizará para consumir la API.\n",
        "sp = spotipy.Spotify(client_credentials_manager=client_credentials_manager)"
      ],
      "metadata": {
        "id": "TxYbcRgG4xTv"
      },
      "execution_count": null,
      "outputs": []
    },
    {
      "cell_type": "markdown",
      "source": [
        "Probamos utilizando la función search, la cual permite obtener información del catálogo de Spotify sobre **álbumes**, **artistas**,** listas de reproducción**, **canciones**, **programas**, **episodios** o **audiolibros** que coincidan con una cadena de palabras clave (es decir, buscará y traerá información sobre algún elemento especificado).\n",
        "\n",
        "Visualizamos el formato en el que se entrega la información, haciendo una búsqueda de datos de la agrupación **Blackpink**."
      ],
      "metadata": {
        "id": "Si19GMZjPOSF"
      }
    },
    {
      "cell_type": "code",
      "source": [
        "# Se busca información sobre Blackpink.\n",
        "result = sp.search(q='Blackpink', type='artist', limit=1)\n",
        "\n",
        "# Se imprime el resultado.\n",
        "result"
      ],
      "metadata": {
        "id": "j5Yuyhz04JCG"
      },
      "execution_count": null,
      "outputs": []
    },
    {
      "cell_type": "markdown",
      "source": [
        "Ahora accedemos a un elemento en particular del diccionario, en este caso, al **número total de seguidores** del grupo en la plataforma:"
      ],
      "metadata": {
        "id": "RzB-_Ke4P449"
      }
    },
    {
      "cell_type": "code",
      "source": [
        "# Se imprime el número de seguidores de Blackpink.\n",
        "result['artists']['items'][0]['followers']['total']"
      ],
      "metadata": {
        "id": "Zck0qeca4fdl"
      },
      "execution_count": null,
      "outputs": []
    },
    {
      "cell_type": "markdown",
      "source": [
        "Obtenemos el top de 10 canciones más populares de la banda utilizando el método [artist_top_tracks](https://spotipy.readthedocs.io/en/2.22.1/#spotipy.client.Spotify.artist_top_tracks):"
      ],
      "metadata": {
        "id": "27-ruIcvQZrV"
      }
    },
    {
      "cell_type": "code",
      "source": [
        "# Se obtiene ID de Blackpink de la información antes extraída.\n",
        "blackpink_id = result['artists']['items'][0]['id']\n",
        "\n",
        "# Se obtienen las 10 canciones más escuchadas de Blackpink.\n",
        "results = sp.artist_top_tracks(blackpink_id)\n",
        "\n",
        "# Se imprime el nombre de las canciones.\n",
        "for track in results['tracks']:\n",
        "    print(track['name'])"
      ],
      "metadata": {
        "id": "L58BV_Pc1M-W"
      },
      "execution_count": null,
      "outputs": []
    },
    {
      "cell_type": "markdown",
      "source": [
        "<br>"
      ],
      "metadata": {
        "id": "Lj3v36OFYzIr"
      }
    },
    {
      "cell_type": "markdown",
      "source": [
        "## **Extrayendo datos en tablas**"
      ],
      "metadata": {
        "id": "ZmU0QJKoY0mL"
      }
    },
    {
      "cell_type": "markdown",
      "source": [
        "Creamos una función para la extracción de 50 canciones de un **género** definido (parámetro de entrada), sus características, y ordena la información en un dataFrame de **Pandas**:"
      ],
      "metadata": {
        "id": "KiCvCsX1RoTt"
      }
    },
    {
      "cell_type": "code",
      "source": [
        "def get_tracks_by_genre(genre):\n",
        "    \"\"\"\n",
        "    Función que obtiene información de 50 canciones de un género musical de\n",
        "    Spotify y organiza la información de un Pandas dataframe.\n",
        "    \"\"\"\n",
        "\n",
        "    # Se buscan 50 canciones del género especificado.\n",
        "    results = sp.search(q=f'genre:{genre}', type='track', limit=50)\n",
        "\n",
        "    # Se extraen los IDs de las canciones.\n",
        "    track_ids = [track['id'] for track in results['tracks']['items']]\n",
        "\n",
        "    # Se obtienen detalles de las canciones.\n",
        "    tracks_info = sp.tracks(tracks=track_ids)\n",
        "\n",
        "    # Se crea una lista para almacenar los datos.\n",
        "    track_data = []\n",
        "\n",
        "    # Se obtienen los datos de cada canción y se añaden a la lista.\n",
        "    for track in tracks_info['tracks']:\n",
        "        track_data.append({\n",
        "            'genre': genre,\n",
        "            'name': track['name'],\n",
        "            'artists_name': ', '.join([artist['name'] for artist in track['artists']]),  # Si hay varios artistas\n",
        "            'album_name': track['album']['name'],\n",
        "            'album_release_date': track['album']['release_date'],\n",
        "            'duration_ms': track['duration_ms'],\n",
        "            'popularity': track['popularity'],\n",
        "            'track_number': track['track_number'],\n",
        "            'uri': track['uri']\n",
        "        })\n",
        "\n",
        "    # Se convierte la lista en un DataFrame de pandas.\n",
        "    df = pd.DataFrame(track_data)\n",
        "\n",
        "    return df"
      ],
      "metadata": {
        "id": "WseKCX_zRrM1"
      },
      "execution_count": null,
      "outputs": []
    },
    {
      "cell_type": "markdown",
      "source": [
        "Probamos la función con el género **Rock**:"
      ],
      "metadata": {
        "id": "YzBr835PZyGs"
      }
    },
    {
      "cell_type": "code",
      "source": [
        "# Ejemplo de uso con el género 'rock'.\n",
        "genre = \"rock\"\n",
        "get_tracks_by_genre(genre)"
      ],
      "metadata": {
        "id": "d6oHpRHoUE8E"
      },
      "execution_count": null,
      "outputs": []
    },
    {
      "cell_type": "markdown",
      "source": [
        "**Nota**: una lista de los géneros disponibles se puede consultar en [https://everynoise.com/everynoise1d.html](https://everynoise.com/everynoise1d.html)"
      ],
      "metadata": {
        "id": "IBFHKArVigIC"
      }
    },
    {
      "cell_type": "markdown",
      "source": [
        "Ahora creamos un bucle que obtenga estos datos para cada género especificado de una **lista**, y concatenamos las **tablas** resultantes para obtener un conjunto de datos:"
      ],
      "metadata": {
        "id": "ze3To9KzR_1t"
      }
    },
    {
      "cell_type": "code",
      "source": [
        "# Se crea una lista con los géneros musicales deseados.\n",
        "genres_list = ['world-music', 'salsa', 'rock-n-roll', 'reggae', 'reggaeton', 'pop', 'black-metal', 'k-pop', 'hip-hop', 'electronic']\n",
        "\n",
        "# Se itera sobre esta lista utilizando sus elementos como entradas de la función creada.\n",
        "tables = []\n",
        "\n",
        "for item in tqdm(genres_list, desc = 'Creando conjunto de datos:'):\n",
        "  table = get_tracks_by_genre(item)\n",
        "  tables.append(table)\n",
        "\n",
        "# Se concatenan las tablas y se imprime el resultado.\n",
        "dataset = pd.concat(tables)\n",
        "dataset"
      ],
      "metadata": {
        "id": "OYr7aksZSFjn"
      },
      "execution_count": null,
      "outputs": []
    },
    {
      "cell_type": "markdown",
      "source": [
        "Por último se descarga en formato CSV:"
      ],
      "metadata": {
        "id": "qZ9IIVkQSUGM"
      }
    },
    {
      "cell_type": "code",
      "source": [
        "# Se convierte a formato CSV.\n",
        "dataset.to_csv('dataset.csv', index=False)\n",
        "\n",
        "# Se descarga el CSV.\n",
        "from google.colab import files\n",
        "files.download('dataset.csv')"
      ],
      "metadata": {
        "id": "nehofeRXM1-f"
      },
      "execution_count": null,
      "outputs": []
    },
    {
      "cell_type": "markdown",
      "source": [
        "O en formato XLS:"
      ],
      "metadata": {
        "id": "vaJTOIBCSuRF"
      }
    },
    {
      "cell_type": "code",
      "source": [
        "# Se convierte a formato Excel.\n",
        "dataset.to_excel('dataset.xlsx', index=False)\n",
        "\n",
        "# Se descarga el Excel.\n",
        "from google.colab import files\n",
        "files.download('dataset.xlsx')"
      ],
      "metadata": {
        "id": "MmpDA3WUSkoH"
      },
      "execution_count": null,
      "outputs": []
    },
    {
      "cell_type": "markdown",
      "source": [
        "No olvides que puedes encontrar más tópicos como este en https://dialektico.com/."
      ],
      "metadata": {
        "id": "0QjcY7SqTatu"
      }
    },
    {
      "cell_type": "markdown",
      "source": [
        "▶ [Regresar al tutorial](https://dialektico.com/tutorial-api-spotify-python/) 📕"
      ],
      "metadata": {
        "id": "sYSKDFyQaOyj"
      }
    },
    {
      "cell_type": "markdown",
      "source": [
        "<br>"
      ],
      "metadata": {
        "id": "ozVtyCn8aKiL"
      }
    },
    {
      "cell_type": "code",
      "source": [
        "# Dialektico Machine learning practices © 2024 by Daniel Antonio García Escobar\n",
        "# is licensed under CC BY-NC 4.0. To view a copy of this license,\n",
        "# visit https://creativecommons.org/licenses/by-nc/4.0/\n",
        "\n",
        "# Creative Commons Attribution-NonCommercial-ShareAlike 4.0 International\n",
        "# Public License"
      ],
      "metadata": {
        "id": "_WCp8ahTaItD"
      },
      "execution_count": null,
      "outputs": []
    }
  ]
}